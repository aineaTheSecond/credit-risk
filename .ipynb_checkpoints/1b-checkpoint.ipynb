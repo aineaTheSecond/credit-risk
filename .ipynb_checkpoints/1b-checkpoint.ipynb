{
 "cells": [
  {
   "cell_type": "code",
   "execution_count": 1,
   "metadata": {},
   "outputs": [],
   "source": [
    "import warnings; warnings.simplefilter('ignore')\n",
    "from dcr import *"
   ]
  },
  {
   "cell_type": "code",
   "execution_count": 2,
   "metadata": {},
   "outputs": [],
   "source": [
    "%matplotlib inline\n",
    "plt.rcParams['figure.dpi'] = 300\n",
    "plt.rcParams['figure.figsize'] = (16, 9)\n",
    "plt.rcParams.update({'font.size': 16})"
   ]
  },
  {
   "cell_type": "code",
   "execution_count": 3,
   "metadata": {},
   "outputs": [],
   "source": [
    "from dcr import *\n",
    "data, data_train, data_test, X_train_scaled, X_test_scaled, y_train, y_test = dataprep(data)"
   ]
  },
  {
   "cell_type": "code",
   "execution_count": 8,
   "metadata": {},
   "outputs": [
    {
     "name": "stdout",
     "output_type": "stream",
     "text": [
      "         id  time  default_time   age\n",
      "1       9.0  25.0           0.0   1.0\n",
      "1845    9.0  26.0           0.0   2.0\n",
      "3738    9.0  27.0           0.0   3.0\n",
      "5819    9.0  28.0           0.0   4.0\n",
      "8080    9.0  29.0           0.0   5.0\n",
      "...     ...   ...           ...   ...\n",
      "23579   9.0  36.0           0.0  12.0\n",
      "25316   9.0  37.0           1.0  13.0\n",
      "2      47.0  25.0           0.0   1.0\n",
      "1846   47.0  26.0           0.0   2.0\n",
      "3739   47.0  27.0           0.0   3.0\n",
      "\n",
      "[16 rows x 4 columns]\n"
     ]
    }
   ],
   "source": [
    "data = data.sort_values(by=['id', 'time', 'age'] )\n",
    "print(data.loc[(data.id ==9)| (data.id ==47 ), ['id', 'time', 'default_time', 'age']])"
   ]
  },
  {
   "cell_type": "code",
   "execution_count": 9,
   "metadata": {},
   "outputs": [
    {
     "name": "stdout",
     "output_type": "stream",
     "text": [
      "                 Generalized Linear Model Regression Results                  \n",
      "==============================================================================\n",
      "Dep. Variable:           default_time   No. Observations:                59001\n",
      "Model:                            GLM   Df Residuals:                    58988\n",
      "Model Family:                Binomial   Df Model:                           12\n",
      "Link Function:                  logit   Scale:                          1.0000\n",
      "Method:                          IRLS   Log-Likelihood:                -6396.6\n",
      "Date:                Wed, 14 Oct 2020   Deviance:                       12793.\n",
      "Time:                        21:49:52   Pearson chi2:                 5.59e+04\n",
      "No. Iterations:                     8                                         \n",
      "Covariance Type:            nonrobust                                         \n",
      "======================================================================================\n",
      "                         coef    std err          z      P>|z|      [0.025      0.975]\n",
      "--------------------------------------------------------------------------------------\n",
      "Intercept             -1.2402      0.466     -2.664      0.008      -2.153      -0.328\n",
      "cep_time               3.1069      0.300     10.365      0.000       2.519       3.694\n",
      "equity_time           -2.5996      0.193    -13.491      0.000      -2.977      -2.222\n",
      "interest_rate_time     0.1602      0.016     10.335      0.000       0.130       0.191\n",
      "FICO_orig_time        -0.0034      0.000     -8.028      0.000      -0.004      -0.003\n",
      "LTV_orig_time         -0.0118      0.004     -3.251      0.001      -0.019      -0.005\n",
      "age                   -0.0141      0.004     -3.714      0.000      -0.022      -0.007\n",
      "gdp_time              -0.0420      0.018     -2.295      0.022      -0.078      -0.006\n",
      "PCA1_1                 0.0093      0.028      0.332      0.740      -0.046       0.064\n",
      "PCA2_1                -0.0025      0.013     -0.187      0.852      -0.028       0.023\n",
      "PCA3_1                 0.0055      0.030      0.184      0.854      -0.053       0.064\n",
      "PCA4_1                 0.0217      0.034      0.643      0.520      -0.044       0.088\n",
      "PCA5_1                 0.0570      0.047      1.220      0.222      -0.035       0.149\n",
      "======================================================================================\n"
     ]
    }
   ],
   "source": [
    "model = smf.glm('default_time ~ cep_time + equity_time + interest_rate_time + FICO_orig_time + LTV_orig_time + age+ gdp_time + PCA1_1 + PCA2_1 + PCA3_1 + PCA4_1 + PCA5_1', family = sm.families.Binomial(), data = data).fit()\n",
    "print(model.summary())"
   ]
  },
  {
   "cell_type": "code",
   "execution_count": null,
   "metadata": {},
   "outputs": [],
   "source": []
  }
 ],
 "metadata": {
  "kernelspec": {
   "display_name": "Python 3",
   "language": "python",
   "name": "python3"
  },
  "language_info": {
   "codemirror_mode": {
    "name": "ipython",
    "version": 3
   },
   "file_extension": ".py",
   "mimetype": "text/x-python",
   "name": "python",
   "nbconvert_exporter": "python",
   "pygments_lexer": "ipython3",
   "version": "3.8.3"
  }
 },
 "nbformat": 4,
 "nbformat_minor": 4
}
