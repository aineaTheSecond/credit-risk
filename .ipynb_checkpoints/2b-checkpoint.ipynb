{
 "cells": [
  {
   "cell_type": "code",
   "execution_count": 22,
   "metadata": {},
   "outputs": [],
   "source": [
    "import warnings; warnings.simplefilter('ignore')\n",
    "from dcr import *"
   ]
  },
  {
   "cell_type": "code",
   "execution_count": 13,
   "metadata": {},
   "outputs": [],
   "source": [
    "%matplotlib inline\n",
    "plt.rcParams['figure.dpi'] = 300\n",
    "plt.rcParams['figure.figsize'] = (16, 9)\n",
    "plt.rcParams.update({'font.size': 16})"
   ]
  },
  {
   "cell_type": "code",
   "execution_count": 23,
   "metadata": {},
   "outputs": [],
   "source": [
    "data, data_train, data_test, X_train_scaled, X_test_scaled, y_train, y_test = dataprep(data)"
   ]
  },
  {
   "cell_type": "code",
   "execution_count": 24,
   "metadata": {},
   "outputs": [
    {
     "name": "stdout",
     "output_type": "stream",
     "text": [
      "         id  time  default_time  uer_time  hpi_time\n",
      "1       9.0  25.0           0.0       4.7    226.29\n",
      "1845    9.0  26.0           0.0       4.7    225.10\n",
      "3738    9.0  27.0           0.0       4.4    222.39\n",
      "5819    9.0  28.0           0.0       4.6    219.67\n",
      "8080    9.0  29.0           0.0       4.5    217.37\n",
      "...     ...   ...           ...       ...       ...\n",
      "23579   9.0  36.0           0.0       7.8    151.48\n",
      "25316   9.0  37.0           1.0       9.0    153.35\n",
      "2      47.0  25.0           0.0       4.7    226.29\n",
      "1846   47.0  26.0           0.0       4.7    225.10\n",
      "3739   47.0  27.0           0.0       4.4    222.39\n",
      "\n",
      "[16 rows x 5 columns]\n"
     ]
    }
   ],
   "source": [
    "data = data.sort_values(by=['id', 'time'] )\n",
    "print(data.loc[(data.id ==9)| (data.id ==47 ), ['id', 'time', 'default_time', 'uer_time', 'hpi_time']])"
   ]
  },
  {
   "cell_type": "code",
   "execution_count": 25,
   "metadata": {},
   "outputs": [
    {
     "name": "stdout",
     "output_type": "stream",
     "text": [
      "                 Generalized Linear Model Regression Results                  \n",
      "==============================================================================\n",
      "Dep. Variable:           default_time   No. Observations:                59001\n",
      "Model:                            GLM   Df Residuals:                    58987\n",
      "Model Family:                Binomial   Df Model:                           13\n",
      "Link Function:                  logit   Scale:                          1.0000\n",
      "Method:                          IRLS   Log-Likelihood:                -6397.1\n",
      "Date:                Thu, 15 Oct 2020   Deviance:                       12794.\n",
      "Time:                        14:28:33   Pearson chi2:                 5.56e+04\n",
      "No. Iterations:                     8                                         \n",
      "Covariance Type:            nonrobust                                         \n",
      "======================================================================================\n",
      "                         coef    std err          z      P>|z|      [0.025      0.975]\n",
      "--------------------------------------------------------------------------------------\n",
      "Intercept             -0.5315      0.626     -0.849      0.396      -1.758       0.695\n",
      "cep_time               3.4186      0.322     10.621      0.000       2.788       4.050\n",
      "equity_time           -2.8294      0.211    -13.399      0.000      -3.243      -2.416\n",
      "interest_rate_time     0.1613      0.015     10.440      0.000       0.131       0.192\n",
      "FICO_orig_time        -0.0034      0.000     -8.109      0.000      -0.004      -0.003\n",
      "LTV_orig_time         -0.0142      0.004     -3.780      0.000      -0.022      -0.007\n",
      "gdp_time              -0.0469      0.018     -2.547      0.011      -0.083      -0.011\n",
      "uer_time              -0.0762      0.024     -3.194      0.001      -0.123      -0.029\n",
      "hpi_time              -0.0007      0.002     -0.358      0.720      -0.004       0.003\n",
      "PCA1_1                 0.0170      0.028      0.605      0.545      -0.038       0.072\n",
      "PCA2_1                -0.0075      0.014     -0.547      0.584      -0.034       0.019\n",
      "PCA3_1                 0.0024      0.030      0.081      0.935      -0.056       0.061\n",
      "PCA4_1                 0.0318      0.034      0.923      0.356      -0.036       0.099\n",
      "PCA5_1                 0.0670      0.048      1.393      0.164      -0.027       0.161\n",
      "======================================================================================\n"
     ]
    }
   ],
   "source": [
    "model = smf.glm('default_time ~ cep_time + equity_time + interest_rate_time + FICO_orig_time + LTV_orig_time + gdp_time + uer_time + hpi_time + PCA1_1 + PCA2_1 + PCA3_1 + PCA4_1 + PCA5_1', family = sm.families.Binomial(), data = data).fit()\n",
    "print(model.summary())"
   ]
  },
  {
   "cell_type": "code",
   "execution_count": null,
   "metadata": {},
   "outputs": [],
   "source": [
    "PD_logit_model = pd.DataFrame(model.fittedvalues, columns=['PD_logit_model'])\n",
    "\n",
    "data2 = pd.merge(data[['default_time', 'time']], PD_logit_model, right_index=True, left_index=True)\n",
    "\n",
    "print(data2[['default_time', 'PD_logit_model']].describe().round(3))"
   ]
  }
 ],
 "metadata": {
  "kernelspec": {
   "display_name": "Python 3",
   "language": "python",
   "name": "python3"
  },
  "language_info": {
   "codemirror_mode": {
    "name": "ipython",
    "version": 3
   },
   "file_extension": ".py",
   "mimetype": "text/x-python",
   "name": "python",
   "nbconvert_exporter": "python",
   "pygments_lexer": "ipython3",
   "version": "3.8.3"
  }
 },
 "nbformat": 4,
 "nbformat_minor": 4
}
