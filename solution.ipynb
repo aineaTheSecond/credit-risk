{
 "cells": [
  {
   "cell_type": "code",
   "execution_count": 2,
   "metadata": {},
   "outputs": [],
   "source": [
    "import warnings; warnings.simplefilter('ignore')\n",
    "from dcr import *"
   ]
  },
  {
   "cell_type": "code",
   "execution_count": 3,
   "metadata": {},
   "outputs": [],
   "source": [
    "%matplotlib inline\n",
    "plt.rcParams['figure.dpi'] = 300\n",
    "plt.rcParams['figure.figsize'] = (16, 9)\n",
    "plt.rcParams.update({'font.size': 16})"
   ]
  },
  {
   "cell_type": "code",
   "execution_count": 4,
   "metadata": {},
   "outputs": [],
   "source": [
    "from dcr import *\n",
    "data, data_train, data_test, X_train_scaled, X_test_scaled, y_train, y_test = dataprep(data)"
   ]
  },
  {
   "cell_type": "code",
   "execution_count": 7,
   "metadata": {},
   "outputs": [
    {
     "name": "stdout",
     "output_type": "stream",
     "text": [
      "         id  time  default_time\n",
      "1       9.0  25.0           0.0\n",
      "1845    9.0  26.0           0.0\n",
      "3738    9.0  27.0           0.0\n",
      "5819    9.0  28.0           0.0\n",
      "8080    9.0  29.0           0.0\n",
      "...     ...   ...           ...\n",
      "23579   9.0  36.0           0.0\n",
      "25316   9.0  37.0           1.0\n",
      "2      47.0  25.0           0.0\n",
      "1846   47.0  26.0           0.0\n",
      "3739   47.0  27.0           0.0\n",
      "\n",
      "[16 rows x 3 columns]\n"
     ]
    }
   ],
   "source": [
    "data = data.sort_values(by=['id', 'time'] )\n",
    "print(data.loc[(data.id ==9)| (data.id ==47 ), ['id', 'time', 'default_time']])"
   ]
  },
  {
   "cell_type": "code",
   "execution_count": 11,
   "metadata": {},
   "outputs": [
    {
     "name": "stdout",
     "output_type": "stream",
     "text": [
      "                 Generalized Linear Model Regression Results                  \n",
      "==============================================================================\n",
      "Dep. Variable:           default_time   No. Observations:                59001\n",
      "Model:                            GLM   Df Residuals:                    58989\n",
      "Model Family:                Binomial   Df Model:                           11\n",
      "Link Function:                  logit   Scale:                          1.0000\n",
      "Method:                          IRLS   Log-Likelihood:                -6403.8\n",
      "Date:                Wed, 14 Oct 2020   Deviance:                       12808.\n",
      "Time:                        21:18:33   Pearson chi2:                 5.47e+04\n",
      "No. Iterations:                     7                                         \n",
      "Covariance Type:            nonrobust                                         \n",
      "======================================================================================\n",
      "                         coef    std err          z      P>|z|      [0.025      0.975]\n",
      "--------------------------------------------------------------------------------------\n",
      "Intercept             -1.4639      0.459     -3.192      0.001      -2.363      -0.565\n",
      "cep_time               3.0953      0.293     10.556      0.000       2.521       3.670\n",
      "equity_time           -2.5861      0.187    -13.797      0.000      -2.953      -2.219\n",
      "interest_rate_time     0.1740      0.015     11.603      0.000       0.145       0.203\n",
      "FICO_orig_time        -0.0033      0.000     -7.863      0.000      -0.004      -0.002\n",
      "LTV_orig_time         -0.0117      0.004     -3.280      0.001      -0.019      -0.005\n",
      "gdp_time              -0.0599      0.018     -3.395      0.001      -0.094      -0.025\n",
      "PCA1_1                 0.0037      0.028      0.132      0.895      -0.052       0.059\n",
      "PCA2_1                -0.0004      0.013     -0.028      0.978      -0.027       0.026\n",
      "PCA3_1                 0.0144      0.030      0.474      0.636      -0.045       0.074\n",
      "PCA4_1                 0.0043      0.034      0.127      0.899      -0.062       0.071\n",
      "PCA5_1                 0.0250      0.046      0.541      0.589      -0.066       0.116\n",
      "======================================================================================\n"
     ]
    }
   ],
   "source": [
    "model = smf.glm('default_time ~ cep_time + equity_time + interest_rate_time + FICO_orig_time + LTV_orig_time + gdp_time + PCA1_1 + PCA2_1 + PCA3_1 + PCA4_1 + PCA5_1', family = sm.families.Binomial(), data = data).fit()\n",
    "print(model.summary())"
   ]
  },
  {
   "cell_type": "code",
   "execution_count": 23,
   "metadata": {},
   "outputs": [
    {
     "name": "stdout",
     "output_type": "stream",
     "text": [
      "       default_time  PD_logit_model\n",
      "count     59001.000       59001.000\n",
      "mean          0.025           0.025\n",
      "std           0.156           0.023\n",
      "min           0.000           0.001\n",
      "25%           0.000           0.010\n",
      "50%           0.000           0.018\n",
      "75%           0.000           0.031\n",
      "max           1.000           0.756\n"
     ]
    }
   ],
   "source": [
    "PD_logit_model = pd.DataFrame(model.fittedvalues, columns=['PD_logit_model'])\n",
    "\n",
    "data2 = pd.merge(data[['default_time', 'time']], PD_logit_model, right_index=True, left_index=True)\n",
    "\n",
    "print(data2[['default_time', 'PD_logit_model']].describe().round(3))"
   ]
  },
  {
   "cell_type": "code",
   "execution_count": null,
   "metadata": {},
   "outputs": [],
   "source": []
  }
 ],
 "metadata": {
  "kernelspec": {
   "display_name": "Python 3",
   "language": "python",
   "name": "python3"
  },
  "language_info": {
   "codemirror_mode": {
    "name": "ipython",
    "version": 3
   },
   "file_extension": ".py",
   "mimetype": "text/x-python",
   "name": "python",
   "nbconvert_exporter": "python",
   "pygments_lexer": "ipython3",
   "version": "3.8.3"
  }
 },
 "nbformat": 4,
 "nbformat_minor": 4
}
